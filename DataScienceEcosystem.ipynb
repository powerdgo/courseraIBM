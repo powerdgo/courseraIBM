{
 "cells": [
  {
   "cell_type": "markdown",
   "id": "77640764-cfd3-46b1-b347-aa4f5c725b55",
   "metadata": {},
   "source": [
    "# Data Science Tools and Ecosystem"
   ]
  },
  {
   "cell_type": "markdown",
   "id": "76341c11-29bd-4cc5-825b-812043777a1d",
   "metadata": {},
   "source": [
    "In this notebook Data Science Tools and Ecosystem are summarized."
   ]
  },
  {
   "cell_type": "markdown",
   "id": "5edd8128-0096-4b05-9cc1-b83dc6df88f8",
   "metadata": {},
   "source": [
    "**Objectives**:\n",
    "* List popular languates for Data Science.\n",
    "* List commonly used libraries by Data Scientists.\n",
    "* List examples of evaluating arithmetic expressions in Python."
   ]
  },
  {
   "cell_type": "markdown",
   "id": "d7eaae19-47c7-4604-8142-e2fac8aa41f0",
   "metadata": {},
   "source": [
    "Some of the popular languages that Data Scientists use are:\n",
    "1. Python\n",
    "2. R\n",
    "3. C++\n",
    "4. Matlab\n",
    "5. Java\n",
    "6. Julia\n",
    "7. Scala"
   ]
  },
  {
   "cell_type": "markdown",
   "id": "8652ff8e-fd2d-431a-b678-bf894d651308",
   "metadata": {},
   "source": [
    "Some of the commonly used libraries used by Data Scientists include:\n",
    "1. Pandas\n",
    "2. NumPy\n",
    "3. SciPy\n",
    "4. TensorFlow\n",
    "5. Keras"
   ]
  },
  {
   "cell_type": "markdown",
   "id": "7908bcbb-e5c3-4448-b75b-0c85a2094e5d",
   "metadata": {
    "tags": []
   },
   "source": [
    "| Data Science Tools |\n",
    "| ----------------- |\n",
    "| vsCode |\n",
    "| RStudio |\n",
    "| PyCharm |"
   ]
  },
  {
   "cell_type": "markdown",
   "id": "779cb38a-5072-4987-9506-356fe50b9214",
   "metadata": {},
   "source": [
    "### Below are a few examples of evaluating arithmetic expressions in Python.\n",
    "| Operator | Syntax | Working |\n",
    "| ---------- | ------- | -------|\n",
    "| + | x + y | Addition or summation of x and y. |\n",
    "| - | x - y | Subtraction of y from x. |\n",
    "| * | x * y | Multiplication or product of x and y. |\n",
    "| / | x / y | Division of x and y.|"
   ]
  },
  {
   "cell_type": "markdown",
   "id": "909eba3b-bb5d-44ed-9405-b64df995e9a3",
   "metadata": {},
   "source": [
    "This a simple arithmetic expression to mutiply then add integers"
   ]
  },
  {
   "cell_type": "code",
   "execution_count": 5,
   "id": "17d9e128-5f74-430b-a8f4-fcc9164abb19",
   "metadata": {
    "tags": []
   },
   "outputs": [
    {
     "data": {
      "text/plain": [
       "17"
      ]
     },
     "execution_count": 5,
     "metadata": {},
     "output_type": "execute_result"
    }
   ],
   "source": [
    "(3*4)+5"
   ]
  },
  {
   "cell_type": "markdown",
   "id": "13c63e4d-f787-4420-9d85-324523e9bf88",
   "metadata": {},
   "source": [
    "This will convert 200 minutes to hours by diving by 60"
   ]
  },
  {
   "cell_type": "code",
   "execution_count": 6,
   "id": "e43b9d35-0a1d-4585-8e67-68481ea8160d",
   "metadata": {
    "tags": []
   },
   "outputs": [
    {
     "data": {
      "text/plain": [
       "3.3333333333333335"
      ]
     },
     "execution_count": 6,
     "metadata": {},
     "output_type": "execute_result"
    }
   ],
   "source": [
    "200 / 60"
   ]
  },
  {
   "cell_type": "markdown",
   "id": "3f0ef864-cea2-47f3-a7ee-4ab342c25400",
   "metadata": {
    "tags": []
   },
   "source": [
    "## Author\n",
    "Diego González Arango"
   ]
  }
 ],
 "metadata": {
  "kernelspec": {
   "display_name": "Python",
   "language": "python",
   "name": "conda-env-python-py"
  },
  "language_info": {
   "codemirror_mode": {
    "name": "ipython",
    "version": 3
   },
   "file_extension": ".py",
   "mimetype": "text/x-python",
   "name": "python",
   "nbconvert_exporter": "python",
   "pygments_lexer": "ipython3",
   "version": "3.7.12"
  }
 },
 "nbformat": 4,
 "nbformat_minor": 5
}
